{
 "cells": [
  {
   "cell_type": "code",
   "execution_count": 1,
   "id": "2fe72b6e",
   "metadata": {
    "execution": {
     "iopub.execute_input": "2024-08-08T07:52:50.495056Z",
     "iopub.status.busy": "2024-08-08T07:52:50.494781Z",
     "iopub.status.idle": "2024-08-08T07:53:04.261097Z",
     "shell.execute_reply": "2024-08-08T07:53:04.260066Z"
    },
    "papermill": {
     "duration": 13.77579,
     "end_time": "2024-08-08T07:53:04.263666",
     "exception": false,
     "start_time": "2024-08-08T07:52:50.487876",
     "status": "completed"
    },
    "tags": []
   },
   "outputs": [
    {
     "name": "stderr",
     "output_type": "stream",
     "text": [
      "2024-08-08 07:52:54.212519: E external/local_xla/xla/stream_executor/cuda/cuda_dnn.cc:9261] Unable to register cuDNN factory: Attempting to register factory for plugin cuDNN when one has already been registered\n",
      "2024-08-08 07:52:54.212657: E external/local_xla/xla/stream_executor/cuda/cuda_fft.cc:607] Unable to register cuFFT factory: Attempting to register factory for plugin cuFFT when one has already been registered\n",
      "2024-08-08 07:52:54.355427: E external/local_xla/xla/stream_executor/cuda/cuda_blas.cc:1515] Unable to register cuBLAS factory: Attempting to register factory for plugin cuBLAS when one has already been registered\n"
     ]
    }
   ],
   "source": [
    "import pandas as pd\n",
    "from sklearn.model_selection import train_test_split\n",
    "from tensorflow.keras.preprocessing.image import ImageDataGenerator\n",
    "from tensorflow.keras.applications import EfficientNetB0\n",
    "from tensorflow.keras.models import Model\n",
    "from tensorflow.keras.layers import Dense, GlobalAveragePooling2D\n",
    "from tensorflow.keras.optimizers import Adam\n",
    "from tensorflow.keras.callbacks import ModelCheckpoint, EarlyStopping"
   ]
  },
  {
   "cell_type": "markdown",
   "id": "03e6410f",
   "metadata": {
    "papermill": {
     "duration": 0.005408,
     "end_time": "2024-08-08T07:53:04.274874",
     "exception": false,
     "start_time": "2024-08-08T07:53:04.269466",
     "status": "completed"
    },
    "tags": []
   },
   "source": [
    "**Load Metadata**"
   ]
  },
  {
   "cell_type": "code",
   "execution_count": 2,
   "id": "042a57f5",
   "metadata": {
    "execution": {
     "iopub.execute_input": "2024-08-08T07:53:04.288166Z",
     "iopub.status.busy": "2024-08-08T07:53:04.287106Z",
     "iopub.status.idle": "2024-08-08T07:53:11.158032Z",
     "shell.execute_reply": "2024-08-08T07:53:11.157170Z"
    },
    "papermill": {
     "duration": 6.879906,
     "end_time": "2024-08-08T07:53:11.160178",
     "exception": false,
     "start_time": "2024-08-08T07:53:04.280272",
     "status": "completed"
    },
    "tags": []
   },
   "outputs": [
    {
     "name": "stderr",
     "output_type": "stream",
     "text": [
      "/tmp/ipykernel_23/1363166166.py:3: DtypeWarning: Columns (51,52) have mixed types. Specify dtype option on import or set low_memory=False.\n",
      "  metadata = pd.read_csv(metadata_path)\n"
     ]
    },
    {
     "data": {
      "text/html": [
       "<div>\n",
       "<style scoped>\n",
       "    .dataframe tbody tr th:only-of-type {\n",
       "        vertical-align: middle;\n",
       "    }\n",
       "\n",
       "    .dataframe tbody tr th {\n",
       "        vertical-align: top;\n",
       "    }\n",
       "\n",
       "    .dataframe thead th {\n",
       "        text-align: right;\n",
       "    }\n",
       "</style>\n",
       "<table border=\"1\" class=\"dataframe\">\n",
       "  <thead>\n",
       "    <tr style=\"text-align: right;\">\n",
       "      <th></th>\n",
       "      <th>isic_id</th>\n",
       "      <th>target</th>\n",
       "      <th>patient_id</th>\n",
       "      <th>age_approx</th>\n",
       "      <th>sex</th>\n",
       "      <th>anatom_site_general</th>\n",
       "      <th>clin_size_long_diam_mm</th>\n",
       "      <th>image_type</th>\n",
       "      <th>tbp_tile_type</th>\n",
       "      <th>tbp_lv_A</th>\n",
       "      <th>...</th>\n",
       "      <th>lesion_id</th>\n",
       "      <th>iddx_full</th>\n",
       "      <th>iddx_1</th>\n",
       "      <th>iddx_2</th>\n",
       "      <th>iddx_3</th>\n",
       "      <th>iddx_4</th>\n",
       "      <th>iddx_5</th>\n",
       "      <th>mel_mitotic_index</th>\n",
       "      <th>mel_thick_mm</th>\n",
       "      <th>tbp_lv_dnn_lesion_confidence</th>\n",
       "    </tr>\n",
       "  </thead>\n",
       "  <tbody>\n",
       "    <tr>\n",
       "      <th>0</th>\n",
       "      <td>ISIC_0015670</td>\n",
       "      <td>0</td>\n",
       "      <td>IP_1235828</td>\n",
       "      <td>60.0</td>\n",
       "      <td>male</td>\n",
       "      <td>lower extremity</td>\n",
       "      <td>3.04</td>\n",
       "      <td>TBP tile: close-up</td>\n",
       "      <td>3D: white</td>\n",
       "      <td>20.244422</td>\n",
       "      <td>...</td>\n",
       "      <td>NaN</td>\n",
       "      <td>Benign</td>\n",
       "      <td>Benign</td>\n",
       "      <td>NaN</td>\n",
       "      <td>NaN</td>\n",
       "      <td>NaN</td>\n",
       "      <td>NaN</td>\n",
       "      <td>NaN</td>\n",
       "      <td>NaN</td>\n",
       "      <td>97.517282</td>\n",
       "    </tr>\n",
       "    <tr>\n",
       "      <th>1</th>\n",
       "      <td>ISIC_0015845</td>\n",
       "      <td>0</td>\n",
       "      <td>IP_8170065</td>\n",
       "      <td>60.0</td>\n",
       "      <td>male</td>\n",
       "      <td>head/neck</td>\n",
       "      <td>1.10</td>\n",
       "      <td>TBP tile: close-up</td>\n",
       "      <td>3D: white</td>\n",
       "      <td>31.712570</td>\n",
       "      <td>...</td>\n",
       "      <td>IL_6727506</td>\n",
       "      <td>Benign</td>\n",
       "      <td>Benign</td>\n",
       "      <td>NaN</td>\n",
       "      <td>NaN</td>\n",
       "      <td>NaN</td>\n",
       "      <td>NaN</td>\n",
       "      <td>NaN</td>\n",
       "      <td>NaN</td>\n",
       "      <td>3.141455</td>\n",
       "    </tr>\n",
       "    <tr>\n",
       "      <th>2</th>\n",
       "      <td>ISIC_0015864</td>\n",
       "      <td>0</td>\n",
       "      <td>IP_6724798</td>\n",
       "      <td>60.0</td>\n",
       "      <td>male</td>\n",
       "      <td>posterior torso</td>\n",
       "      <td>3.40</td>\n",
       "      <td>TBP tile: close-up</td>\n",
       "      <td>3D: XP</td>\n",
       "      <td>22.575830</td>\n",
       "      <td>...</td>\n",
       "      <td>NaN</td>\n",
       "      <td>Benign</td>\n",
       "      <td>Benign</td>\n",
       "      <td>NaN</td>\n",
       "      <td>NaN</td>\n",
       "      <td>NaN</td>\n",
       "      <td>NaN</td>\n",
       "      <td>NaN</td>\n",
       "      <td>NaN</td>\n",
       "      <td>99.804040</td>\n",
       "    </tr>\n",
       "    <tr>\n",
       "      <th>3</th>\n",
       "      <td>ISIC_0015902</td>\n",
       "      <td>0</td>\n",
       "      <td>IP_4111386</td>\n",
       "      <td>65.0</td>\n",
       "      <td>male</td>\n",
       "      <td>anterior torso</td>\n",
       "      <td>3.22</td>\n",
       "      <td>TBP tile: close-up</td>\n",
       "      <td>3D: XP</td>\n",
       "      <td>14.242329</td>\n",
       "      <td>...</td>\n",
       "      <td>NaN</td>\n",
       "      <td>Benign</td>\n",
       "      <td>Benign</td>\n",
       "      <td>NaN</td>\n",
       "      <td>NaN</td>\n",
       "      <td>NaN</td>\n",
       "      <td>NaN</td>\n",
       "      <td>NaN</td>\n",
       "      <td>NaN</td>\n",
       "      <td>99.989998</td>\n",
       "    </tr>\n",
       "    <tr>\n",
       "      <th>4</th>\n",
       "      <td>ISIC_0024200</td>\n",
       "      <td>0</td>\n",
       "      <td>IP_8313778</td>\n",
       "      <td>55.0</td>\n",
       "      <td>male</td>\n",
       "      <td>anterior torso</td>\n",
       "      <td>2.73</td>\n",
       "      <td>TBP tile: close-up</td>\n",
       "      <td>3D: white</td>\n",
       "      <td>24.725520</td>\n",
       "      <td>...</td>\n",
       "      <td>NaN</td>\n",
       "      <td>Benign</td>\n",
       "      <td>Benign</td>\n",
       "      <td>NaN</td>\n",
       "      <td>NaN</td>\n",
       "      <td>NaN</td>\n",
       "      <td>NaN</td>\n",
       "      <td>NaN</td>\n",
       "      <td>NaN</td>\n",
       "      <td>70.442510</td>\n",
       "    </tr>\n",
       "  </tbody>\n",
       "</table>\n",
       "<p>5 rows × 55 columns</p>\n",
       "</div>"
      ],
      "text/plain": [
       "        isic_id  target  patient_id  age_approx   sex anatom_site_general  \\\n",
       "0  ISIC_0015670       0  IP_1235828        60.0  male     lower extremity   \n",
       "1  ISIC_0015845       0  IP_8170065        60.0  male           head/neck   \n",
       "2  ISIC_0015864       0  IP_6724798        60.0  male     posterior torso   \n",
       "3  ISIC_0015902       0  IP_4111386        65.0  male      anterior torso   \n",
       "4  ISIC_0024200       0  IP_8313778        55.0  male      anterior torso   \n",
       "\n",
       "   clin_size_long_diam_mm          image_type tbp_tile_type   tbp_lv_A  ...  \\\n",
       "0                    3.04  TBP tile: close-up     3D: white  20.244422  ...   \n",
       "1                    1.10  TBP tile: close-up     3D: white  31.712570  ...   \n",
       "2                    3.40  TBP tile: close-up        3D: XP  22.575830  ...   \n",
       "3                    3.22  TBP tile: close-up        3D: XP  14.242329  ...   \n",
       "4                    2.73  TBP tile: close-up     3D: white  24.725520  ...   \n",
       "\n",
       "    lesion_id  iddx_full  iddx_1  iddx_2  iddx_3  iddx_4  iddx_5  \\\n",
       "0         NaN     Benign  Benign     NaN     NaN     NaN     NaN   \n",
       "1  IL_6727506     Benign  Benign     NaN     NaN     NaN     NaN   \n",
       "2         NaN     Benign  Benign     NaN     NaN     NaN     NaN   \n",
       "3         NaN     Benign  Benign     NaN     NaN     NaN     NaN   \n",
       "4         NaN     Benign  Benign     NaN     NaN     NaN     NaN   \n",
       "\n",
       "   mel_mitotic_index  mel_thick_mm  tbp_lv_dnn_lesion_confidence  \n",
       "0                NaN           NaN                     97.517282  \n",
       "1                NaN           NaN                      3.141455  \n",
       "2                NaN           NaN                     99.804040  \n",
       "3                NaN           NaN                     99.989998  \n",
       "4                NaN           NaN                     70.442510  \n",
       "\n",
       "[5 rows x 55 columns]"
      ]
     },
     "execution_count": 2,
     "metadata": {},
     "output_type": "execute_result"
    }
   ],
   "source": [
    "# Load metadata\n",
    "metadata_path = '/kaggle/input/isic-2024-challenge/train-metadata.csv'\n",
    "metadata = pd.read_csv(metadata_path)\n",
    "\n",
    "# Print the first few rows of the DataFrame to check if data is loaded correctly\n",
    "metadata.head()\n",
    "\n"
   ]
  },
  {
   "cell_type": "markdown",
   "id": "102114ac",
   "metadata": {
    "papermill": {
     "duration": 0.005833,
     "end_time": "2024-08-08T07:53:11.172246",
     "exception": false,
     "start_time": "2024-08-08T07:53:11.166413",
     "status": "completed"
    },
    "tags": []
   },
   "source": [
    "**Image Batch Generate**"
   ]
  },
  {
   "cell_type": "code",
   "execution_count": 3,
   "id": "539143ce",
   "metadata": {
    "execution": {
     "iopub.execute_input": "2024-08-08T07:53:11.185239Z",
     "iopub.status.busy": "2024-08-08T07:53:11.184957Z",
     "iopub.status.idle": "2024-08-08T07:53:11.189745Z",
     "shell.execute_reply": "2024-08-08T07:53:11.188951Z"
    },
    "papermill": {
     "duration": 0.013816,
     "end_time": "2024-08-08T07:53:11.191937",
     "exception": false,
     "start_time": "2024-08-08T07:53:11.178121",
     "status": "completed"
    },
    "tags": []
   },
   "outputs": [
    {
     "name": "stdout",
     "output_type": "stream",
     "text": [
      "Index(['isic_id', 'target', 'patient_id', 'age_approx', 'sex',\n",
      "       'anatom_site_general', 'clin_size_long_diam_mm', 'image_type',\n",
      "       'tbp_tile_type', 'tbp_lv_A', 'tbp_lv_Aext', 'tbp_lv_B', 'tbp_lv_Bext',\n",
      "       'tbp_lv_C', 'tbp_lv_Cext', 'tbp_lv_H', 'tbp_lv_Hext', 'tbp_lv_L',\n",
      "       'tbp_lv_Lext', 'tbp_lv_areaMM2', 'tbp_lv_area_perim_ratio',\n",
      "       'tbp_lv_color_std_mean', 'tbp_lv_deltaA', 'tbp_lv_deltaB',\n",
      "       'tbp_lv_deltaL', 'tbp_lv_deltaLB', 'tbp_lv_deltaLBnorm',\n",
      "       'tbp_lv_eccentricity', 'tbp_lv_location', 'tbp_lv_location_simple',\n",
      "       'tbp_lv_minorAxisMM', 'tbp_lv_nevi_confidence', 'tbp_lv_norm_border',\n",
      "       'tbp_lv_norm_color', 'tbp_lv_perimeterMM',\n",
      "       'tbp_lv_radial_color_std_max', 'tbp_lv_stdL', 'tbp_lv_stdLExt',\n",
      "       'tbp_lv_symm_2axis', 'tbp_lv_symm_2axis_angle', 'tbp_lv_x', 'tbp_lv_y',\n",
      "       'tbp_lv_z', 'attribution', 'copyright_license', 'lesion_id',\n",
      "       'iddx_full', 'iddx_1', 'iddx_2', 'iddx_3', 'iddx_4', 'iddx_5',\n",
      "       'mel_mitotic_index', 'mel_thick_mm', 'tbp_lv_dnn_lesion_confidence'],\n",
      "      dtype='object')\n"
     ]
    }
   ],
   "source": [
    "# Print column names to verify the presence of 'isic_id'\n",
    "print(metadata.columns)\n"
   ]
  },
  {
   "cell_type": "markdown",
   "id": "76b3a487",
   "metadata": {
    "papermill": {
     "duration": 0.005694,
     "end_time": "2024-08-08T07:53:11.203511",
     "exception": false,
     "start_time": "2024-08-08T07:53:11.197817",
     "status": "completed"
    },
    "tags": []
   },
   "source": [
    "**Define the Model**"
   ]
  },
  {
   "cell_type": "code",
   "execution_count": 4,
   "id": "5b81fd4b",
   "metadata": {
    "execution": {
     "iopub.execute_input": "2024-08-08T07:53:11.216374Z",
     "iopub.status.busy": "2024-08-08T07:53:11.216095Z",
     "iopub.status.idle": "2024-08-08T07:53:11.418197Z",
     "shell.execute_reply": "2024-08-08T07:53:11.417232Z"
    },
    "papermill": {
     "duration": 0.211242,
     "end_time": "2024-08-08T07:53:11.420588",
     "exception": false,
     "start_time": "2024-08-08T07:53:11.209346",
     "status": "completed"
    },
    "tags": []
   },
   "outputs": [
    {
     "name": "stdout",
     "output_type": "stream",
     "text": [
      "Missing 'isic_id' values: 0\n",
      "Empty 'isic_id' values: 0\n"
     ]
    }
   ],
   "source": [
    "# Check for missing or empty values in 'isic_id' column\n",
    "missing_ids = metadata['isic_id'].isnull().sum()\n",
    "empty_ids = (metadata['isic_id'].str.strip() == '').sum()\n",
    "print(f\"Missing 'isic_id' values: {missing_ids}\")\n",
    "print(f\"Empty 'isic_id' values: {empty_ids}\")"
   ]
  },
  {
   "cell_type": "code",
   "execution_count": 5,
   "id": "8be7ad87",
   "metadata": {
    "execution": {
     "iopub.execute_input": "2024-08-08T07:53:11.434555Z",
     "iopub.status.busy": "2024-08-08T07:53:11.434189Z",
     "iopub.status.idle": "2024-08-08T07:59:41.909690Z",
     "shell.execute_reply": "2024-08-08T07:59:41.908884Z"
    },
    "papermill": {
     "duration": 390.485084,
     "end_time": "2024-08-08T07:59:41.911968",
     "exception": false,
     "start_time": "2024-08-08T07:53:11.426884",
     "status": "completed"
    },
    "tags": []
   },
   "outputs": [
    {
     "name": "stdout",
     "output_type": "stream",
     "text": [
      "file_exists\n",
      "True    401059\n",
      "Name: count, dtype: int64\n"
     ]
    }
   ],
   "source": [
    "import os\n",
    "# Append .jpg to each filename in the 'isic_id' column\n",
    "metadata['isic_id'] = metadata['isic_id'].apply(lambda x: f\"{x}.jpg\")\n",
    "\n",
    "# Check if the image files exist\n",
    "metadata['file_exists'] = metadata['isic_id'].apply(lambda x: os.path.isfile(os.path.join('/kaggle/input/isic-2024-challenge/train-image/image', x)))\n",
    "print(metadata['file_exists'].value_counts())\n",
    "\n",
    "# Filter out rows where the image file does not exist\n",
    "metadata = metadata[metadata['file_exists']]\n",
    "\n",
    "# If no files exist, raise an error\n",
    "if metadata.empty:\n",
    "    raise ValueError(\"No valid image files found. Please check the filenames and directory.\")"
   ]
  },
  {
   "cell_type": "code",
   "execution_count": 6,
   "id": "b1c8df6b",
   "metadata": {
    "execution": {
     "iopub.execute_input": "2024-08-08T07:59:41.925630Z",
     "iopub.status.busy": "2024-08-08T07:59:41.925300Z",
     "iopub.status.idle": "2024-08-08T07:59:42.209060Z",
     "shell.execute_reply": "2024-08-08T07:59:42.208294Z"
    },
    "papermill": {
     "duration": 0.293069,
     "end_time": "2024-08-08T07:59:42.211324",
     "exception": false,
     "start_time": "2024-08-08T07:59:41.918255",
     "status": "completed"
    },
    "tags": []
   },
   "outputs": [],
   "source": [
    "# Create the 'label' column\n",
    "if 'tbp_lv_nevi_confidence' in metadata.columns:\n",
    "    metadata['label'] = metadata['tbp_lv_nevi_confidence'].apply(lambda x: 1 if x > 0.5 else 0)\n",
    "else:\n",
    "    raise ValueError(\"The necessary column for labels is missing from the metadata.\")"
   ]
  },
  {
   "cell_type": "code",
   "execution_count": 7,
   "id": "6543a52b",
   "metadata": {
    "execution": {
     "iopub.execute_input": "2024-08-08T07:59:42.225118Z",
     "iopub.status.busy": "2024-08-08T07:59:42.224820Z",
     "iopub.status.idle": "2024-08-08T07:59:42.713688Z",
     "shell.execute_reply": "2024-08-08T07:59:42.712878Z"
    },
    "papermill": {
     "duration": 0.498224,
     "end_time": "2024-08-08T07:59:42.716004",
     "exception": false,
     "start_time": "2024-08-08T07:59:42.217780",
     "status": "completed"
    },
    "tags": []
   },
   "outputs": [],
   "source": [
    "# Create train and validation splits\n",
    "train_df, val_df = train_test_split(metadata, test_size=0.2, random_state=0)\n"
   ]
  },
  {
   "cell_type": "code",
   "execution_count": 8,
   "id": "e17e20a4",
   "metadata": {
    "execution": {
     "iopub.execute_input": "2024-08-08T07:59:42.729789Z",
     "iopub.status.busy": "2024-08-08T07:59:42.729473Z",
     "iopub.status.idle": "2024-08-08T07:59:42.893975Z",
     "shell.execute_reply": "2024-08-08T07:59:42.893144Z"
    },
    "papermill": {
     "duration": 0.173838,
     "end_time": "2024-08-08T07:59:42.896253",
     "exception": false,
     "start_time": "2024-08-08T07:59:42.722415",
     "status": "completed"
    },
    "tags": []
   },
   "outputs": [],
   "source": [
    "train_df['label'] = train_df['label'].astype(str)\n",
    "val_df['label'] = val_df['label'].astype(str)"
   ]
  },
  {
   "cell_type": "code",
   "execution_count": 9,
   "id": "c88dba68",
   "metadata": {
    "execution": {
     "iopub.execute_input": "2024-08-08T07:59:42.910304Z",
     "iopub.status.busy": "2024-08-08T07:59:42.909977Z",
     "iopub.status.idle": "2024-08-08T08:02:24.112879Z",
     "shell.execute_reply": "2024-08-08T08:02:24.112063Z"
    },
    "papermill": {
     "duration": 161.212563,
     "end_time": "2024-08-08T08:02:24.115295",
     "exception": false,
     "start_time": "2024-08-08T07:59:42.902732",
     "status": "completed"
    },
    "tags": []
   },
   "outputs": [
    {
     "name": "stdout",
     "output_type": "stream",
     "text": [
      "Found 320847 validated image filenames belonging to 2 classes.\n",
      "Found 80212 validated image filenames belonging to 2 classes.\n"
     ]
    }
   ],
   "source": [
    "# Convert labels to strings\n",
    "train_df['label'] = train_df['label'].astype(str)\n",
    "val_df['label'] = val_df['label'].astype(str)\n",
    "\n",
    "# Image data generators with augmentation\n",
    "train_datagen = ImageDataGenerator(\n",
    "    rescale=1./255,\n",
    "    rotation_range=20,\n",
    "    width_shift_range=0.2,\n",
    "    height_shift_range=0.2,\n",
    "    shear_range=0.2,\n",
    "    zoom_range=0.2,\n",
    "    horizontal_flip=True,\n",
    "    fill_mode='nearest'\n",
    ")\n",
    "\n",
    "val_datagen = ImageDataGenerator(rescale=1./255)\n",
    "\n",
    "# Create generators\n",
    "train_generator = train_datagen.flow_from_dataframe(\n",
    "    train_df,\n",
    "    directory='/kaggle/input/isic-2024-challenge/train-image/image',\n",
    "    x_col='isic_id',  # Adjust if your image filenames are in a different column\n",
    "    y_col='label',\n",
    "    target_size=(224, 224),\n",
    "    batch_size=32,\n",
    "    class_mode='binary'\n",
    ")\n",
    "\n",
    "val_generator = val_datagen.flow_from_dataframe(\n",
    "    val_df,\n",
    "    directory='/kaggle/input/isic-2024-challenge/train-image/image',\n",
    "    x_col='isic_id',  # Adjust if your image filenames are in a different column\n",
    "    y_col='label',\n",
    "    target_size=(224, 224),\n",
    "    batch_size=32,\n",
    "    class_mode='binary'\n",
    ")"
   ]
  },
  {
   "cell_type": "code",
   "execution_count": 10,
   "id": "b37cdf7b",
   "metadata": {
    "execution": {
     "iopub.execute_input": "2024-08-08T08:02:24.130089Z",
     "iopub.status.busy": "2024-08-08T08:02:24.129327Z",
     "iopub.status.idle": "2024-08-08T08:02:24.134534Z",
     "shell.execute_reply": "2024-08-08T08:02:24.133662Z"
    },
    "papermill": {
     "duration": 0.014475,
     "end_time": "2024-08-08T08:02:24.136500",
     "exception": false,
     "start_time": "2024-08-08T08:02:24.122025",
     "status": "completed"
    },
    "tags": []
   },
   "outputs": [],
   "source": [
    "from tensorflow.keras.applications import EfficientNetB0\n",
    "from tensorflow.keras.models import Model\n",
    "from tensorflow.keras.layers import Dense, GlobalAveragePooling2D\n",
    "from tensorflow.keras.optimizers import Adam\n",
    "from tensorflow.keras.callbacks import ModelCheckpoint, EarlyStopping"
   ]
  },
  {
   "cell_type": "code",
   "execution_count": 11,
   "id": "d514cba4",
   "metadata": {
    "execution": {
     "iopub.execute_input": "2024-08-08T08:02:24.150547Z",
     "iopub.status.busy": "2024-08-08T08:02:24.149638Z",
     "iopub.status.idle": "2024-08-08T08:02:28.557275Z",
     "shell.execute_reply": "2024-08-08T08:02:28.556257Z"
    },
    "papermill": {
     "duration": 4.41709,
     "end_time": "2024-08-08T08:02:28.559799",
     "exception": false,
     "start_time": "2024-08-08T08:02:24.142709",
     "status": "completed"
    },
    "tags": []
   },
   "outputs": [
    {
     "name": "stdout",
     "output_type": "stream",
     "text": [
      "Downloading data from https://storage.googleapis.com/keras-applications/efficientnetb0_notop.h5\n",
      "\u001b[1m16705208/16705208\u001b[0m \u001b[32m━━━━━━━━━━━━━━━━━━━━\u001b[0m\u001b[37m\u001b[0m \u001b[1m1s\u001b[0m 0us/step\n"
     ]
    }
   ],
   "source": [
    "# Load the EfficientNetB0 model with pre-trained weights, without the top layer\n",
    "base_model = EfficientNetB0(weights='imagenet', include_top=False, input_shape=(224, 224, 3))"
   ]
  },
  {
   "cell_type": "code",
   "execution_count": 12,
   "id": "22b6ce12",
   "metadata": {
    "execution": {
     "iopub.execute_input": "2024-08-08T08:02:28.578208Z",
     "iopub.status.busy": "2024-08-08T08:02:28.577864Z",
     "iopub.status.idle": "2024-08-08T08:02:28.605893Z",
     "shell.execute_reply": "2024-08-08T08:02:28.605192Z"
    },
    "papermill": {
     "duration": 0.039311,
     "end_time": "2024-08-08T08:02:28.607874",
     "exception": false,
     "start_time": "2024-08-08T08:02:28.568563",
     "status": "completed"
    },
    "tags": []
   },
   "outputs": [],
   "source": [
    "# Add custom layers on top of the base model\n",
    "x = base_model.output\n",
    "x = GlobalAveragePooling2D()(x)\n",
    "x = Dense(128, activation='relu')(x)\n",
    "predictions = Dense(1, activation='sigmoid')(x)"
   ]
  },
  {
   "cell_type": "code",
   "execution_count": 13,
   "id": "916ec5f2",
   "metadata": {
    "execution": {
     "iopub.execute_input": "2024-08-08T08:02:28.625782Z",
     "iopub.status.busy": "2024-08-08T08:02:28.625505Z",
     "iopub.status.idle": "2024-08-08T08:02:28.647405Z",
     "shell.execute_reply": "2024-08-08T08:02:28.646505Z"
    },
    "papermill": {
     "duration": 0.033133,
     "end_time": "2024-08-08T08:02:28.649422",
     "exception": false,
     "start_time": "2024-08-08T08:02:28.616289",
     "status": "completed"
    },
    "tags": []
   },
   "outputs": [],
   "source": [
    "# Define the model\n",
    "model = Model(inputs=base_model.input, outputs=predictions)"
   ]
  },
  {
   "cell_type": "code",
   "execution_count": 14,
   "id": "ead8efac",
   "metadata": {
    "execution": {
     "iopub.execute_input": "2024-08-08T08:02:28.666944Z",
     "iopub.status.busy": "2024-08-08T08:02:28.666690Z",
     "iopub.status.idle": "2024-08-08T08:02:28.678617Z",
     "shell.execute_reply": "2024-08-08T08:02:28.677898Z"
    },
    "papermill": {
     "duration": 0.02278,
     "end_time": "2024-08-08T08:02:28.680409",
     "exception": false,
     "start_time": "2024-08-08T08:02:28.657629",
     "status": "completed"
    },
    "tags": []
   },
   "outputs": [],
   "source": [
    "# Compile the model\n",
    "model.compile(optimizer=Adam(learning_rate=0.001), loss='binary_crossentropy', metrics=['accuracy'])"
   ]
  },
  {
   "cell_type": "code",
   "execution_count": 15,
   "id": "9c559523",
   "metadata": {
    "execution": {
     "iopub.execute_input": "2024-08-08T08:02:28.698711Z",
     "iopub.status.busy": "2024-08-08T08:02:28.698403Z",
     "iopub.status.idle": "2024-08-08T08:02:28.703150Z",
     "shell.execute_reply": "2024-08-08T08:02:28.702387Z"
    },
    "papermill": {
     "duration": 0.01614,
     "end_time": "2024-08-08T08:02:28.705074",
     "exception": false,
     "start_time": "2024-08-08T08:02:28.688934",
     "status": "completed"
    },
    "tags": []
   },
   "outputs": [],
   "source": [
    "# Set up callbacks\n",
    "checkpoint = ModelCheckpoint('best_model.keras', monitor='val_accuracy', save_best_only=True, mode='max', verbose=1)\n",
    "early_stopping = EarlyStopping(monitor='val_accuracy', patience=5, mode='max', verbose=1)"
   ]
  },
  {
   "cell_type": "code",
   "execution_count": 16,
   "id": "2586a223",
   "metadata": {
    "execution": {
     "iopub.execute_input": "2024-08-08T08:02:28.722861Z",
     "iopub.status.busy": "2024-08-08T08:02:28.722602Z",
     "iopub.status.idle": "2024-08-08T11:41:40.804288Z",
     "shell.execute_reply": "2024-08-08T11:41:40.803256Z"
    },
    "papermill": {
     "duration": 13152.093001,
     "end_time": "2024-08-08T11:41:40.806514",
     "exception": false,
     "start_time": "2024-08-08T08:02:28.713513",
     "status": "completed"
    },
    "tags": []
   },
   "outputs": [
    {
     "name": "stdout",
     "output_type": "stream",
     "text": [
      "Epoch 1/5\n"
     ]
    },
    {
     "name": "stderr",
     "output_type": "stream",
     "text": [
      "/opt/conda/lib/python3.10/site-packages/keras/src/trainers/data_adapters/py_dataset_adapter.py:121: UserWarning: Your `PyDataset` class should call `super().__init__(**kwargs)` in its constructor. `**kwargs` can include `workers`, `use_multiprocessing`, `max_queue_size`. Do not pass these arguments to `fit()`, as they will be ignored.\n",
      "  self._warn_if_super_not_called()\n",
      "WARNING: All log messages before absl::InitializeLog() is called are written to STDERR\n",
      "I0000 00:00:1723104243.615547      65 device_compiler.h:186] Compiled cluster using XLA!  This line is logged at most once for the lifetime of the process.\n"
     ]
    },
    {
     "name": "stdout",
     "output_type": "stream",
     "text": [
      "10026/10026 - 5144s - 513ms/step - accuracy: 0.8746 - loss: 0.2777 - val_accuracy: 0.8842 - val_loss: 0.2547\n",
      "Epoch 2/5\n"
     ]
    },
    {
     "name": "stderr",
     "output_type": "stream",
     "text": [
      "/opt/conda/lib/python3.10/contextlib.py:153: UserWarning: Your input ran out of data; interrupting training. Make sure that your dataset or generator can generate at least `steps_per_epoch * epochs` batches. You may need to use the `.repeat()` function when building your dataset.\n",
      "  self.gen.throw(typ, value, traceback)\n"
     ]
    },
    {
     "name": "stdout",
     "output_type": "stream",
     "text": [
      "10026/10026 - 7s - 678us/step - accuracy: 0.9688 - loss: 0.1534 - val_accuracy: 0.9000 - val_loss: 0.1727\n",
      "Epoch 3/5\n",
      "10026/10026 - 4056s - 405ms/step - accuracy: 0.8876 - loss: 0.2498 - val_accuracy: 0.8876 - val_loss: 0.2500\n",
      "Epoch 4/5\n",
      "10026/10026 - 0s - 18us/step - accuracy: 0.9062 - loss: 0.2463 - val_accuracy: 0.9000 - val_loss: 0.1972\n",
      "Epoch 5/5\n",
      "10026/10026 - 3944s - 393ms/step - accuracy: 0.8918 - loss: 0.2405 - val_accuracy: 0.8946 - val_loss: 0.2323\n"
     ]
    }
   ],
   "source": [
    "history = model.fit(\n",
    "    train_generator,\n",
    "    steps_per_epoch=train_generator.samples // train_generator.batch_size,\n",
    "    validation_data=val_generator,\n",
    "    validation_steps=val_generator.samples // val_generator.batch_size,\n",
    "    epochs=5,  # Reduced for testing\n",
    "    verbose=2\n",
    ")\n"
   ]
  }
 ],
 "metadata": {
  "kaggle": {
   "accelerator": "gpu",
   "dataSources": [
    {
     "databundleVersionId": 9094797,
     "sourceId": 63056,
     "sourceType": "competition"
    }
   ],
   "isGpuEnabled": true,
   "isInternetEnabled": true,
   "language": "python",
   "sourceType": "notebook"
  },
  "kernelspec": {
   "display_name": "Python 3",
   "language": "python",
   "name": "python3"
  },
  "language_info": {
   "codemirror_mode": {
    "name": "ipython",
    "version": 3
   },
   "file_extension": ".py",
   "mimetype": "text/x-python",
   "name": "python",
   "nbconvert_exporter": "python",
   "pygments_lexer": "ipython3",
   "version": "3.10.13"
  },
  "papermill": {
   "default_parameters": {},
   "duration": 13736.768128,
   "end_time": "2024-08-08T11:41:44.451689",
   "environment_variables": {},
   "exception": null,
   "input_path": "__notebook__.ipynb",
   "output_path": "__notebook__.ipynb",
   "parameters": {},
   "start_time": "2024-08-08T07:52:47.683561",
   "version": "2.5.0"
  }
 },
 "nbformat": 4,
 "nbformat_minor": 5
}
