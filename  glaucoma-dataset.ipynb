{
 "cells": [
  {
   "cell_type": "code",
   "execution_count": 1,
   "id": "1864c251",
   "metadata": {
    "execution": {
     "iopub.execute_input": "2024-12-09T04:46:09.468993Z",
     "iopub.status.busy": "2024-12-09T04:46:09.468664Z",
     "iopub.status.idle": "2024-12-09T04:46:21.196560Z",
     "shell.execute_reply": "2024-12-09T04:46:21.195620Z"
    },
    "papermill": {
     "duration": 11.736716,
     "end_time": "2024-12-09T04:46:21.198701",
     "exception": false,
     "start_time": "2024-12-09T04:46:09.461985",
     "status": "completed"
    },
    "tags": []
   },
   "outputs": [
    {
     "name": "stderr",
     "output_type": "stream",
     "text": [
      "/opt/conda/lib/python3.10/site-packages/scipy/__init__.py:146: UserWarning: A NumPy version >=1.16.5 and <1.23.0 is required for this version of SciPy (detected version 1.24.3\n",
      "  warnings.warn(f\"A NumPy version >={np_minversion} and <{np_maxversion}\"\n"
     ]
    }
   ],
   "source": [
    "import pandas as pd\n",
    "from keras import backend as K\n",
    "from keras.preprocessing.image import ImageDataGenerator\n",
    "import os\n",
    "import cv2\n",
    "from tensorflow.keras import regularizers, Model\n",
    "from keras.layers import Dense, GlobalMaxPool2D, Dropout\n",
    "from tensorflow.keras.callbacks import ReduceLROnPlateau, ModelCheckpoint\n",
    "from tensorflow.keras.utils import Sequence\n",
    "from keras.models import Model\n",
    "from matplotlib import pyplot as plt\n",
    "from tensorflow.keras.optimizers import Adam\n",
    "import keras\n",
    "import numpy as np\n",
    "import random\n",
    "import shutil\n",
    "\n",
    "#from tensorflow.keras.applications.xception import preprocess_input"
   ]
  },
  {
   "cell_type": "markdown",
   "id": "2c300db9",
   "metadata": {
    "papermill": {
     "duration": 0.004436,
     "end_time": "2024-12-09T04:46:21.208224",
     "exception": false,
     "start_time": "2024-12-09T04:46:21.203788",
     "status": "completed"
    },
    "tags": []
   },
   "source": [
    "## Setup data splits in generators"
   ]
  },
  {
   "cell_type": "code",
   "execution_count": 2,
   "id": "22469975",
   "metadata": {
    "execution": {
     "iopub.execute_input": "2024-12-09T04:46:21.218730Z",
     "iopub.status.busy": "2024-12-09T04:46:21.218230Z",
     "iopub.status.idle": "2024-12-09T04:46:34.906312Z",
     "shell.execute_reply": "2024-12-09T04:46:34.905457Z"
    },
    "papermill": {
     "duration": 13.695299,
     "end_time": "2024-12-09T04:46:34.908121",
     "exception": false,
     "start_time": "2024-12-09T04:46:21.212822",
     "status": "completed"
    },
    "tags": []
   },
   "outputs": [
    {
     "name": "stdout",
     "output_type": "stream",
     "text": [
      "Found 8000 images belonging to 2 classes.\n",
      "Found 8000 images belonging to 2 classes.\n",
      "Found 770 images belonging to 2 classes.\n",
      "Found 770 images belonging to 2 classes.\n"
     ]
    }
   ],
   "source": [
    "target = 256 # number of pixels. change this to 512 if you want to use the full image size. note: will slow computations\n",
    "\n",
    "dataPath = '/kaggle/input/glaucoma-dataset-eyepacs-airogs-light-v2/eyepac-light-v2-512-jpg/'\n",
    "\n",
    "# inject noise but keep dark parts black\n",
    "def addNoise(image):\n",
    "    gray = cv2.cvtColor(image, cv2.COLOR_RGB2GRAY).astype(np.uint8)\n",
    "    ret, mask = cv2.threshold(gray, 5, 255, cv2.THRESH_BINARY)\n",
    "\n",
    "    randStd = random.uniform(0, 10.0)\n",
    "    gaussian = np.random.normal(randStd*-1, randStd, (target, target,3))\n",
    "    noisy_image = image + gaussian\n",
    "    image = np.clip(noisy_image, 0, 255).astype(np.uint8)\n",
    "\n",
    "    image[mask == 0] = [0,0,0]\n",
    "    #image = preprocess_input(image)\n",
    "    return image\n",
    "\n",
    "# combine two unique generators using noise injection and moderate preprocessing\n",
    "batchSize = 8\n",
    "trainDataGen = ImageDataGenerator(preprocessing_function=addNoise, horizontal_flip=True,vertical_flip=True, channel_shift_range=10, width_shift_range=0.05, height_shift_range=0.05,rotation_range=360,shear_range=30, brightness_range=(0.95, 1.05),  fill_mode = 'constant', cval=0, zoom_range=0.05)\n",
    "trainGen1 = trainDataGen.flow_from_directory(batch_size = batchSize, shuffle=True,  class_mode=\"binary\", target_size=(target, target), directory=dataPath + 'train', color_mode='rgb', seed=0)\n",
    "trainGen2 = trainDataGen.flow_from_directory(batch_size = batchSize, shuffle=True,  class_mode=\"binary\", target_size=(target, target), directory=dataPath + 'train', color_mode='rgb', seed=1)\n",
    "\n",
    "def combine_gen(*gens):\n",
    "    while True:\n",
    "        for g in gens:\n",
    "            yield next(g)\n",
    "\n",
    "trainGen = combine_gen(trainGen1, trainGen2)\n",
    "\n",
    "valDataGen = ImageDataGenerator(preprocessing_function=None)\n",
    "valGen = valDataGen.flow_from_directory(batch_size = 1, class_mode=\"binary\", target_size=(target, target), directory=dataPath + 'validation', color_mode='rgb')\n",
    "\n",
    "testDataGen = ImageDataGenerator(preprocessing_function=None)\n",
    "testGen = testDataGen.flow_from_directory(batch_size = 1, class_mode=\"binary\", target_size=(target, target), directory=dataPath + 'test', color_mode='rgb')"
   ]
  },
  {
   "cell_type": "markdown",
   "id": "be5812ee",
   "metadata": {
    "papermill": {
     "duration": 0.004745,
     "end_time": "2024-12-09T04:46:34.918267",
     "exception": false,
     "start_time": "2024-12-09T04:46:34.913522",
     "status": "completed"
    },
    "tags": []
   },
   "source": [
    "## Create a ConvNeXtTiny instance"
   ]
  },
  {
   "cell_type": "code",
   "execution_count": 3,
   "id": "572a0584",
   "metadata": {
    "execution": {
     "iopub.execute_input": "2024-12-09T04:46:34.929164Z",
     "iopub.status.busy": "2024-12-09T04:46:34.928869Z",
     "iopub.status.idle": "2024-12-09T04:46:42.077656Z",
     "shell.execute_reply": "2024-12-09T04:46:42.076915Z"
    },
    "papermill": {
     "duration": 7.156757,
     "end_time": "2024-12-09T04:46:42.079845",
     "exception": false,
     "start_time": "2024-12-09T04:46:34.923088",
     "status": "completed"
    },
    "tags": []
   },
   "outputs": [
    {
     "name": "stdout",
     "output_type": "stream",
     "text": [
      "Downloading data from https://storage.googleapis.com/tensorflow/keras-applications/convnext/convnext_tiny_notop.h5\n",
      "111650432/111650432 [==============================] - 3s 0us/step\n"
     ]
    }
   ],
   "source": [
    "# simple model that uses ConvNeXtTiny backbone; accomodate for overfitting with a regularized dense layer after backbone\n",
    "def getModel(image_size, num_classes):\n",
    "    model_input = keras.Input(shape=(image_size, image_size, 3))\n",
    "    \n",
    "    transfer = keras.applications.ConvNeXtTiny(\n",
    "        weights='imagenet', include_preprocessing=True, include_top=False, input_tensor=model_input\n",
    "    )\n",
    "    x = transfer.output\n",
    "    x = GlobalMaxPool2D()(x)\n",
    "    x = Dense(64, activation='relu', kernel_regularizer=regularizers.L1L2(l1=1e-1))(x)\n",
    "    model_output = Dense(1, activation='sigmoid') (x)\n",
    "\n",
    "    return keras.Model(inputs=model_input, outputs=model_output)\n",
    "\n",
    "model = getModel(image_size=target, num_classes=1)"
   ]
  },
  {
   "cell_type": "markdown",
   "id": "4437b131",
   "metadata": {
    "papermill": {
     "duration": 0.006779,
     "end_time": "2024-12-09T04:46:42.094085",
     "exception": false,
     "start_time": "2024-12-09T04:46:42.087306",
     "status": "completed"
    },
    "tags": []
   },
   "source": [
    "## Model Meta-Learning Configurations"
   ]
  },
  {
   "cell_type": "code",
   "execution_count": 4,
   "id": "515a7fc3",
   "metadata": {
    "execution": {
     "iopub.execute_input": "2024-12-09T04:46:42.110131Z",
     "iopub.status.busy": "2024-12-09T04:46:42.109443Z",
     "iopub.status.idle": "2024-12-09T04:46:42.114001Z",
     "shell.execute_reply": "2024-12-09T04:46:42.113176Z"
    },
    "papermill": {
     "duration": 0.01404,
     "end_time": "2024-12-09T04:46:42.115714",
     "exception": false,
     "start_time": "2024-12-09T04:46:42.101674",
     "status": "completed"
    },
    "tags": []
   },
   "outputs": [],
   "source": [
    "reduce_lr = ReduceLROnPlateau(monitor='val_loss', factor=0.95, patience=1, min_lr=1e-5)\n",
    "model_checkpoint_callback = keras.callbacks.ModelCheckpoint(\n",
    "    filepath='val-best.h5',\n",
    "    monitor='val_loss',\n",
    "    mode='min',\n",
    "    save_best_only=True)"
   ]
  },
  {
   "cell_type": "markdown",
   "id": "a4e0f767",
   "metadata": {
    "papermill": {
     "duration": 0.006585,
     "end_time": "2024-12-09T04:46:42.129214",
     "exception": false,
     "start_time": "2024-12-09T04:46:42.122629",
     "status": "completed"
    },
    "tags": []
   },
   "source": [
    "## Model Training\n",
    "Note: No training on the doubled dataset yet for quicker convergence"
   ]
  },
  {
   "cell_type": "code",
   "execution_count": 5,
   "id": "2b7d33b0",
   "metadata": {
    "execution": {
     "iopub.execute_input": "2024-12-09T04:46:42.144024Z",
     "iopub.status.busy": "2024-12-09T04:46:42.143773Z",
     "iopub.status.idle": "2024-12-09T06:02:47.157495Z",
     "shell.execute_reply": "2024-12-09T06:02:47.156558Z"
    },
    "papermill": {
     "duration": 4566.063801,
     "end_time": "2024-12-09T06:02:48.200020",
     "exception": false,
     "start_time": "2024-12-09T04:46:42.136219",
     "status": "completed"
    },
    "tags": []
   },
   "outputs": [
    {
     "name": "stdout",
     "output_type": "stream",
     "text": [
      "Epoch 1/20\n",
      "1000/1000 [==============================] - ETA: 0s - loss: 63.4547 - binary_accuracy: 0.8085 - auc: 0.8920 - precision: 0.8087 - recall: 0.8083"
     ]
    },
    {
     "name": "stderr",
     "output_type": "stream",
     "text": [
      "/opt/conda/lib/python3.10/site-packages/keras/src/engine/training.py:3000: UserWarning: You are saving your model as an HDF5 file via `model.save()`. This file format is considered legacy. We recommend using instead the native Keras format, e.g. `model.save('my_model.keras')`.\n",
      "  saving_api.save_model(\n"
     ]
    },
    {
     "name": "stdout",
     "output_type": "stream",
     "text": [
      "1000/1000 [==============================] - 302s 264ms/step - loss: 63.4547 - binary_accuracy: 0.8085 - auc: 0.8920 - precision: 0.8087 - recall: 0.8083 - val_loss: 1.3120 - val_binary_accuracy: 0.9039 - val_auc: 0.9622 - val_precision: 0.9081 - val_recall: 0.8987 - lr: 1.0000e-04\n",
      "Epoch 2/20\n",
      "1000/1000 [==============================] - 229s 229ms/step - loss: 0.6705 - binary_accuracy: 0.8809 - auc: 0.9452 - precision: 0.8793 - recall: 0.8830 - val_loss: 0.3986 - val_binary_accuracy: 0.9260 - val_auc: 0.9740 - val_precision: 0.9039 - val_recall: 0.9532 - lr: 1.0000e-04\n",
      "Epoch 3/20\n",
      "1000/1000 [==============================] - 224s 224ms/step - loss: 0.4283 - binary_accuracy: 0.8936 - auc: 0.9542 - precision: 0.8920 - recall: 0.8957 - val_loss: 0.3701 - val_binary_accuracy: 0.9104 - val_auc: 0.9721 - val_precision: 0.9365 - val_recall: 0.8805 - lr: 1.0000e-04\n",
      "Epoch 4/20\n",
      "1000/1000 [==============================] - 223s 223ms/step - loss: 0.3952 - binary_accuracy: 0.8971 - auc: 0.9596 - precision: 0.8941 - recall: 0.9010 - val_loss: 0.3401 - val_binary_accuracy: 0.9351 - val_auc: 0.9752 - val_precision: 0.9396 - val_recall: 0.9299 - lr: 1.0000e-04\n",
      "Epoch 5/20\n",
      "1000/1000 [==============================] - 224s 224ms/step - loss: 0.3709 - binary_accuracy: 0.9072 - auc: 0.9648 - precision: 0.9026 - recall: 0.9130 - val_loss: 0.3134 - val_binary_accuracy: 0.9377 - val_auc: 0.9787 - val_precision: 0.9377 - val_recall: 0.9377 - lr: 1.0000e-04\n",
      "Epoch 6/20\n",
      "1000/1000 [==============================] - 223s 223ms/step - loss: 0.3578 - binary_accuracy: 0.9129 - auc: 0.9677 - precision: 0.9055 - recall: 0.9220 - val_loss: 0.3361 - val_binary_accuracy: 0.9325 - val_auc: 0.9781 - val_precision: 0.8918 - val_recall: 0.9844 - lr: 1.0000e-04\n",
      "Epoch 7/20\n",
      "1000/1000 [==============================] - 224s 224ms/step - loss: 0.3402 - binary_accuracy: 0.9204 - auc: 0.9695 - precision: 0.9159 - recall: 0.9258 - val_loss: 0.3054 - val_binary_accuracy: 0.9299 - val_auc: 0.9794 - val_precision: 0.9169 - val_recall: 0.9455 - lr: 9.5000e-05\n",
      "Epoch 8/20\n",
      "1000/1000 [==============================] - 222s 222ms/step - loss: 0.3257 - binary_accuracy: 0.9241 - auc: 0.9728 - precision: 0.9219 - recall: 0.9268 - val_loss: 0.2975 - val_binary_accuracy: 0.9338 - val_auc: 0.9780 - val_precision: 0.9326 - val_recall: 0.9351 - lr: 9.5000e-05\n",
      "Epoch 9/20\n",
      "1000/1000 [==============================] - 222s 222ms/step - loss: 0.3137 - binary_accuracy: 0.9240 - auc: 0.9762 - precision: 0.9165 - recall: 0.9330 - val_loss: 0.2940 - val_binary_accuracy: 0.9364 - val_auc: 0.9826 - val_precision: 0.9200 - val_recall: 0.9558 - lr: 9.5000e-05\n",
      "Epoch 10/20\n",
      "1000/1000 [==============================] - 223s 223ms/step - loss: 0.2997 - binary_accuracy: 0.9329 - auc: 0.9785 - precision: 0.9237 - recall: 0.9438 - val_loss: 0.2891 - val_binary_accuracy: 0.9273 - val_auc: 0.9807 - val_precision: 0.9340 - val_recall: 0.9195 - lr: 9.5000e-05\n",
      "Epoch 11/20\n",
      "1000/1000 [==============================] - 224s 224ms/step - loss: 0.2880 - binary_accuracy: 0.9352 - auc: 0.9806 - precision: 0.9301 - recall: 0.9413 - val_loss: 0.2840 - val_binary_accuracy: 0.9429 - val_auc: 0.9794 - val_precision: 0.9189 - val_recall: 0.9714 - lr: 9.5000e-05\n",
      "Epoch 12/20\n",
      "1000/1000 [==============================] - 223s 223ms/step - loss: 0.2829 - binary_accuracy: 0.9354 - auc: 0.9818 - precision: 0.9301 - recall: 0.9415 - val_loss: 0.2755 - val_binary_accuracy: 0.9455 - val_auc: 0.9820 - val_precision: 0.9256 - val_recall: 0.9688 - lr: 9.5000e-05\n",
      "Epoch 13/20\n",
      "1000/1000 [==============================] - 224s 224ms/step - loss: 0.2782 - binary_accuracy: 0.9364 - auc: 0.9816 - precision: 0.9309 - recall: 0.9427 - val_loss: 0.2580 - val_binary_accuracy: 0.9481 - val_auc: 0.9822 - val_precision: 0.9238 - val_recall: 0.9766 - lr: 9.5000e-05\n",
      "Epoch 14/20\n",
      "1000/1000 [==============================] - 221s 221ms/step - loss: 0.2670 - binary_accuracy: 0.9435 - auc: 0.9836 - precision: 0.9380 - recall: 0.9498 - val_loss: 0.2861 - val_binary_accuracy: 0.9312 - val_auc: 0.9804 - val_precision: 0.9346 - val_recall: 0.9273 - lr: 9.5000e-05\n",
      "Epoch 15/20\n",
      "1000/1000 [==============================] - 220s 219ms/step - loss: 0.2546 - binary_accuracy: 0.9452 - auc: 0.9848 - precision: 0.9380 - recall: 0.9535 - val_loss: 0.2601 - val_binary_accuracy: 0.9442 - val_auc: 0.9809 - val_precision: 0.9407 - val_recall: 0.9481 - lr: 9.0250e-05\n",
      "Epoch 16/20\n",
      "1000/1000 [==============================] - 226s 226ms/step - loss: 0.2519 - binary_accuracy: 0.9454 - auc: 0.9842 - precision: 0.9376 - recall: 0.9542 - val_loss: 0.2492 - val_binary_accuracy: 0.9481 - val_auc: 0.9867 - val_precision: 0.9434 - val_recall: 0.9532 - lr: 8.5737e-05\n",
      "Epoch 17/20\n",
      "1000/1000 [==============================] - 226s 226ms/step - loss: 0.2401 - binary_accuracy: 0.9479 - auc: 0.9865 - precision: 0.9403 - recall: 0.9565 - val_loss: 0.2738 - val_binary_accuracy: 0.9364 - val_auc: 0.9783 - val_precision: 0.9444 - val_recall: 0.9273 - lr: 8.5737e-05\n",
      "Epoch 18/20\n",
      "1000/1000 [==============================] - 226s 226ms/step - loss: 0.2315 - binary_accuracy: 0.9499 - auc: 0.9875 - precision: 0.9453 - recall: 0.9550 - val_loss: 0.2639 - val_binary_accuracy: 0.9390 - val_auc: 0.9820 - val_precision: 0.9246 - val_recall: 0.9558 - lr: 8.1451e-05\n",
      "Epoch 19/20\n",
      "1000/1000 [==============================] - 224s 224ms/step - loss: 0.2238 - binary_accuracy: 0.9521 - auc: 0.9876 - precision: 0.9467 - recall: 0.9582 - val_loss: 0.2752 - val_binary_accuracy: 0.9260 - val_auc: 0.9791 - val_precision: 0.9457 - val_recall: 0.9039 - lr: 7.7378e-05\n",
      "Epoch 20/20\n",
      "1000/1000 [==============================] - 232s 232ms/step - loss: 0.2114 - binary_accuracy: 0.9569 - auc: 0.9892 - precision: 0.9527 - recall: 0.9615 - val_loss: 0.2697 - val_binary_accuracy: 0.9403 - val_auc: 0.9787 - val_precision: 0.9165 - val_recall: 0.9688 - lr: 7.3509e-05\n"
     ]
    }
   ],
   "source": [
    "model.compile(optimizer=Adam(1e-4), loss='binary_crossentropy', metrics=['binary_accuracy',keras.metrics.AUC(),keras.metrics.Precision(), keras.metrics.Recall()])\n",
    "history = model.fit(trainGen1, steps_per_epoch = len(trainGen1),validation_data=valGen, validation_steps=len(valGen), epochs=20, callbacks=[reduce_lr, model_checkpoint_callback])"
   ]
  },
  {
   "cell_type": "code",
   "execution_count": 6,
   "id": "7323686a",
   "metadata": {
    "execution": {
     "iopub.execute_input": "2024-12-09T06:02:50.197152Z",
     "iopub.status.busy": "2024-12-09T06:02:50.196818Z",
     "iopub.status.idle": "2024-12-09T06:02:50.473111Z",
     "shell.execute_reply": "2024-12-09T06:02:50.472208Z"
    },
    "papermill": {
     "duration": 1.234378,
     "end_time": "2024-12-09T06:02:50.475016",
     "exception": false,
     "start_time": "2024-12-09T06:02:49.240638",
     "status": "completed"
    },
    "tags": []
   },
   "outputs": [
    {
     "data": {
      "image/png": "[encoded data removed]",
      "text/plain": [
       "<Figure size 640x480 with 1 Axes>"
      ]
     },
     "metadata": {},
     "output_type": "display_data"
    }
   ],
   "source": [
    "plt.plot(history.history[\"binary_accuracy\"])\n",
    "plt.plot(history.history[\"val_binary_accuracy\"])\n",
    "plt.title(\"Model Accuracy\")\n",
    "plt.ylabel(\"accuracy\")\n",
    "plt.xlabel(\"epoch\")\n",
    "plt.show()"
   ]
  },
  {
   "cell_type": "code",
   "execution_count": 7,
   "id": "530fa0e4",
   "metadata": {
    "execution": {
     "iopub.execute_input": "2024-12-09T06:02:52.541391Z",
     "iopub.status.busy": "2024-12-09T06:02:52.541066Z",
     "iopub.status.idle": "2024-12-09T06:03:12.752172Z",
     "shell.execute_reply": "2024-12-09T06:03:12.751167Z"
    },
    "papermill": {
     "duration": 21.249138,
     "end_time": "2024-12-09T06:03:12.754231",
     "exception": false,
     "start_time": "2024-12-09T06:02:51.505093",
     "status": "completed"
    },
    "tags": []
   },
   "outputs": [
    {
     "name": "stdout",
     "output_type": "stream",
     "text": [
      "770/770 [==============================] - 19s 25ms/step - loss: 0.2777 - binary_accuracy: 0.9325 - auc: 0.9805 - precision: 0.9237 - recall: 0.9429\n"
     ]
    },
    {
     "data": {
      "text/plain": [
       "[0.2776761054992676,\n",
       " 0.932467520236969,\n",
       " 0.9804891347885132,\n",
       " 0.9236640930175781,\n",
       " 0.9428571462631226]"
      ]
     },
     "execution_count": 7,
     "metadata": {},
     "output_type": "execute_result"
    }
   ],
   "source": [
    "# evaluate using best epoch model according to validation loss\n",
    "model.save('pretrained.h5')\n",
    "model.load_weights('/kaggle/working/val-best.h5')\n",
    "model.evaluate(testGen)"
   ]
  },
  {
   "cell_type": "markdown",
   "id": "d9c32a67",
   "metadata": {
    "papermill": {
     "duration": 1.01493,
     "end_time": "2024-12-09T06:03:14.823652",
     "exception": false,
     "start_time": "2024-12-09T06:03:13.808722",
     "status": "completed"
    },
    "tags": []
   },
   "source": [
    "# Double training data with the other uniqely seeded training generator to prevent overfitting and continue training"
   ]
  },
  {
   "cell_type": "code",
   "execution_count": 8,
   "id": "ca5d5ed7",
   "metadata": {
    "execution": {
     "iopub.execute_input": "2024-12-09T06:03:16.941324Z",
     "iopub.status.busy": "2024-12-09T06:03:16.940465Z",
     "iopub.status.idle": "2024-12-09T06:38:40.631969Z",
     "shell.execute_reply": "2024-12-09T06:38:40.631095Z"
    },
    "papermill": {
     "duration": 2124.739356,
     "end_time": "2024-12-09T06:38:40.634033",
     "exception": false,
     "start_time": "2024-12-09T06:03:15.894677",
     "status": "completed"
    },
    "tags": []
   },
   "outputs": [
    {
     "name": "stdout",
     "output_type": "stream",
     "text": [
      "Epoch 1/5\n",
      "2000/2000 [==============================] - 430s 215ms/step - loss: 0.1990 - binary_accuracy: 0.9579 - auc: 0.9901 - precision: 0.9518 - recall: 0.9647 - val_loss: 0.2503 - val_binary_accuracy: 0.9403 - val_auc: 0.9803 - val_precision: 0.9449 - val_recall: 0.9351 - lr: 6.9834e-05\n",
      "Epoch 2/5\n",
      "2000/2000 [==============================] - 431s 216ms/step - loss: 0.1890 - binary_accuracy: 0.9640 - auc: 0.9917 - precision: 0.9593 - recall: 0.9691 - val_loss: 0.2288 - val_binary_accuracy: 0.9506 - val_auc: 0.9830 - val_precision: 0.9348 - val_recall: 0.9688 - lr: 6.9834e-05\n",
      "Epoch 3/5\n",
      "2000/2000 [==============================] - 422s 211ms/step - loss: 0.1791 - binary_accuracy: 0.9658 - auc: 0.9927 - precision: 0.9613 - recall: 0.9707 - val_loss: 0.2408 - val_binary_accuracy: 0.9468 - val_auc: 0.9827 - val_precision: 0.9279 - val_recall: 0.9688 - lr: 6.9834e-05\n",
      "Epoch 4/5\n",
      "2000/2000 [==============================] - 421s 210ms/step - loss: 0.1675 - binary_accuracy: 0.9690 - auc: 0.9934 - precision: 0.9648 - recall: 0.9735 - val_loss: 0.2285 - val_binary_accuracy: 0.9506 - val_auc: 0.9830 - val_precision: 0.9506 - val_recall: 0.9506 - lr: 6.6342e-05\n",
      "Epoch 5/5\n",
      "2000/2000 [==============================] - 419s 210ms/step - loss: 0.1581 - binary_accuracy: 0.9726 - auc: 0.9947 - precision: 0.9692 - recall: 0.9761 - val_loss: 0.2176 - val_binary_accuracy: 0.9494 - val_auc: 0.9854 - val_precision: 0.9369 - val_recall: 0.9636 - lr: 6.6342e-05\n"
     ]
    }
   ],
   "source": [
    "model.load_weights('pretrained.h5')\n",
    "history = model.fit(trainGen, steps_per_epoch = len(trainGen1)*2,validation_data=valGen, validation_steps=len(valGen), epochs=5, callbacks=[reduce_lr, model_checkpoint_callback])"
   ]
  },
  {
   "cell_type": "code",
   "execution_count": 9,
   "id": "9ab95db0",
   "metadata": {
    "execution": {
     "iopub.execute_input": "2024-12-09T06:38:43.638607Z",
     "iopub.status.busy": "2024-12-09T06:38:43.638256Z",
     "iopub.status.idle": "2024-12-09T06:39:02.590580Z",
     "shell.execute_reply": "2024-12-09T06:39:02.589363Z"
    },
    "papermill": {
     "duration": 20.412526,
     "end_time": "2024-12-09T06:39:02.592547",
     "exception": false,
     "start_time": "2024-12-09T06:38:42.180021",
     "status": "completed"
    },
    "tags": []
   },
   "outputs": [
    {
     "name": "stdout",
     "output_type": "stream",
     "text": [
      "770/770 [==============================] - 18s 23ms/step - loss: 0.2442 - binary_accuracy: 0.9455 - auc: 0.9819 - precision: 0.9432 - recall: 0.9481\n"
     ]
    },
    {
     "data": {
      "text/plain": [
       "[0.2441682666540146,\n",
       " 0.9454545378684998,\n",
       " 0.9818755984306335,\n",
       " 0.9431524276733398,\n",
       " 0.948051929473877]"
      ]
     },
     "execution_count": 9,
     "metadata": {},
     "output_type": "execute_result"
    }
   ],
   "source": [
    "model.save('pretrained2.h5')\n",
    "model.load_weights('/kaggle/working/val-best.h5')\n",
    "model.evaluate(testGen)"
   ]
  },
  {
   "cell_type": "markdown",
   "id": "16724ff7",
   "metadata": {
    "papermill": {
     "duration": 1.595308,
     "end_time": "2024-12-09T06:39:05.722021",
     "exception": false,
     "start_time": "2024-12-09T06:39:04.126713",
     "status": "completed"
    },
    "tags": []
   },
   "source": [
    "## With the help of a large deep learning model and advanced preprocessing to prevent overfitting, the benchmrk has improved!"
   ]
  },
  {
   "cell_type": "markdown",
   "id": "a41bce28",
   "metadata": {
    "papermill": {
     "duration": 1.457723,
     "end_time": "2024-12-09T06:39:08.814067",
     "exception": false,
     "start_time": "2024-12-09T06:39:07.356344",
     "status": "completed"
    },
    "tags": []
   },
   "source": [
    "# 2nd way of DL"
   ]
  },
  {
   "cell_type": "markdown",
   "id": "95ec1929",
   "metadata": {
    "papermill": {
     "duration": 1.611118,
     "end_time": "2024-12-09T06:39:11.956194",
     "exception": false,
     "start_time": "2024-12-09T06:39:10.345076",
     "status": "completed"
    },
    "tags": []
   },
   "source": [
    "Install Dependencies and Setup"
   ]
  },
  {
   "cell_type": "code",
   "execution_count": 10,
   "id": "06d92b9a",
   "metadata": {
    "execution": {
     "iopub.execute_input": "2024-12-09T06:39:15.112979Z",
     "iopub.status.busy": "2024-12-09T06:39:15.112645Z",
     "iopub.status.idle": "2024-12-09T06:39:24.899138Z",
     "shell.execute_reply": "2024-12-09T06:39:24.897826Z"
    },
    "papermill": {
     "duration": 11.40445,
     "end_time": "2024-12-09T06:39:24.901348",
     "exception": false,
     "start_time": "2024-12-09T06:39:13.496898",
     "status": "completed"
    },
    "tags": []
   },
   "outputs": [],
   "source": [
    "# Install necessary libraries (if not already installed)\n",
    "!pip install -q tensorflow keras"
   ]
  },
  {
   "cell_type": "code",
   "execution_count": 11,
   "id": "127e79fd",
   "metadata": {
    "execution": {
     "iopub.execute_input": "2024-12-09T06:39:27.983224Z",
     "iopub.status.busy": "2024-12-09T06:39:27.982858Z",
     "iopub.status.idle": "2024-12-09T06:39:27.991744Z",
     "shell.execute_reply": "2024-12-09T06:39:27.991146Z"
    },
    "papermill": {
     "duration": 1.554929,
     "end_time": "2024-12-09T06:39:27.993402",
     "exception": false,
     "start_time": "2024-12-09T06:39:26.438473",
     "status": "completed"
    },
    "tags": []
   },
   "outputs": [],
   "source": [
    "\n",
    "\n",
    "import os\n",
    "import numpy as np\n",
    "import pandas as pd\n",
    "import tensorflow as tf\n",
    "from tensorflow.keras.preprocessing.image import ImageDataGenerator\n",
    "from tensorflow.keras.applications import EfficientNetB0\n",
    "from tensorflow.keras.models import Model\n",
    "from tensorflow.keras.layers import Dense, Dropout, GlobalAveragePooling2D\n",
    "from tensorflow.keras.callbacks import EarlyStopping, ReduceLROnPlateau\n",
    "import matplotlib.pyplot as plt\n"
   ]
  },
  {
   "cell_type": "markdown",
   "id": "b9806598",
   "metadata": {
    "papermill": {
     "duration": 1.467448,
     "end_time": "2024-12-09T06:39:31.085510",
     "exception": false,
     "start_time": "2024-12-09T06:39:29.618062",
     "status": "completed"
    },
    "tags": []
   },
   "source": [
    "**Dataset Setup**"
   ]
  },
  {
   "cell_type": "code",
   "execution_count": 12,
   "id": "9cfa0458",
   "metadata": {
    "execution": {
     "iopub.execute_input": "2024-12-09T06:39:34.151710Z",
     "iopub.status.busy": "2024-12-09T06:39:34.150660Z",
     "iopub.status.idle": "2024-12-09T06:39:36.504898Z",
     "shell.execute_reply": "2024-12-09T06:39:36.504223Z"
    },
    "papermill": {
     "duration": 3.89227,
     "end_time": "2024-12-09T06:39:36.506522",
     "exception": false,
     "start_time": "2024-12-09T06:39:32.614252",
     "status": "completed"
    },
    "tags": []
   },
   "outputs": [
    {
     "name": "stdout",
     "output_type": "stream",
     "text": [
      "Found 8000 images belonging to 2 classes.\n",
      "Found 770 images belonging to 2 classes.\n"
     ]
    }
   ],
   "source": [
    "# Define dataset paths\n",
    "DATASET_PATH = \"/kaggle/input/glaucoma-dataset-eyepacs-airogs-light-v2/eyepac-light-v2-512-jpg/\"\n",
    "\n",
    "TRAIN_DIR = os.path.join(DATASET_PATH, \"train\")\n",
    "VALID_DIR = os.path.join(DATASET_PATH, \"validation\")\n",
    "TEST_DIR = os.path.join(DATASET_PATH, \"test\")\n",
    "\n",
    "# Data Augmentation for Training and Validation\n",
    "train_datagen = ImageDataGenerator(\n",
    "    rescale=1.0/255,\n",
    "    rotation_range=20,\n",
    "    width_shift_range=0.2,\n",
    "    height_shift_range=0.2,\n",
    "    shear_range=0.2,\n",
    "    zoom_range=0.2,\n",
    "    horizontal_flip=True\n",
    ")\n",
    "\n",
    "valid_datagen = ImageDataGenerator(rescale=1.0/255)\n",
    "\n",
    "train_generator = train_datagen.flow_from_directory(\n",
    "    TRAIN_DIR,\n",
    "    target_size=(224, 224),\n",
    "    batch_size=32,\n",
    "    class_mode='binary'\n",
    ")\n",
    "\n",
    "valid_generator = valid_datagen.flow_from_directory(\n",
    "    VALID_DIR,\n",
    "    target_size=(224, 224),\n",
    "    batch_size=32,\n",
    "    class_mode='binary'\n",
    ")\n"
   ]
  },
  {
   "cell_type": "markdown",
   "id": "e458ef29",
   "metadata": {
    "papermill": {
     "duration": 1.526849,
     "end_time": "2024-12-09T06:39:39.560449",
     "exception": false,
     "start_time": "2024-12-09T06:39:38.033600",
     "status": "completed"
    },
    "tags": []
   },
   "source": [
    "**Model Definition (Transfer Learning)**"
   ]
  },
  {
   "cell_type": "code",
   "execution_count": 13,
   "id": "63273568",
   "metadata": {
    "execution": {
     "iopub.execute_input": "2024-12-09T06:39:42.629399Z",
     "iopub.status.busy": "2024-12-09T06:39:42.628646Z",
     "iopub.status.idle": "2024-12-09T06:39:46.181668Z",
     "shell.execute_reply": "2024-12-09T06:39:46.180594Z"
    },
    "papermill": {
     "duration": 5.096757,
     "end_time": "2024-12-09T06:39:46.183767",
     "exception": false,
     "start_time": "2024-12-09T06:39:41.087010",
     "status": "completed"
    },
    "tags": []
   },
   "outputs": [
    {
     "name": "stdout",
     "output_type": "stream",
     "text": [
      "Downloading data from https://storage.googleapis.com/keras-applications/efficientnetb0_notop.h5\n",
      "16705208/16705208 [==============================] - 1s 0us/step\n"
     ]
    }
   ],
   "source": [
    "# Load pre-trained model\n",
    "base_model = EfficientNetB0(weights='imagenet', include_top=False, input_shape=(224, 224, 3))\n",
    "\n",
    "# Add custom layers\n",
    "x = GlobalAveragePooling2D()(base_model.output)\n",
    "x = Dropout(0.5)(x)\n",
    "x = Dense(128, activation='relu')(x)\n",
    "x = Dropout(0.3)(x)\n",
    "output = Dense(1, activation='sigmoid')(x)\n",
    "\n",
    "model = Model(inputs=base_model.input, outputs=output)\n",
    "\n",
    "# Freeze the base model for initial training\n",
    "for layer in base_model.layers:\n",
    "    layer.trainable = False\n",
    "\n",
    "# Compile the model\n",
    "model.compile(optimizer='adam', loss='binary_crossentropy', metrics=['accuracy'])\n"
   ]
  },
  {
   "cell_type": "markdown",
   "id": "0f2a8d22",
   "metadata": {
    "papermill": {
     "duration": 1.545423,
     "end_time": "2024-12-09T06:39:49.264352",
     "exception": false,
     "start_time": "2024-12-09T06:39:47.718929",
     "status": "completed"
    },
    "tags": []
   },
   "source": [
    "**Training**"
   ]
  },
  {
   "cell_type": "code",
   "execution_count": 14,
   "id": "9877cc73",
   "metadata": {
    "execution": {
     "iopub.execute_input": "2024-12-09T06:39:52.341403Z",
     "iopub.status.busy": "2024-12-09T06:39:52.340614Z",
     "iopub.status.idle": "2024-12-09T07:17:46.001772Z",
     "shell.execute_reply": "2024-12-09T07:17:46.000933Z"
    },
    "papermill": {
     "duration": 2275.200415,
     "end_time": "2024-12-09T07:17:46.003817",
     "exception": false,
     "start_time": "2024-12-09T06:39:50.803402",
     "status": "completed"
    },
    "tags": []
   },
   "outputs": [
    {
     "name": "stdout",
     "output_type": "stream",
     "text": [
      "Epoch 1/20\n"
     ]
    },
    {
     "name": "stderr",
     "output_type": "stream",
     "text": [
      "2024-12-09 06:39:58.019044: E tensorflow/core/grappler/optimizers/meta_optimizer.cc:954] layout failed: INVALID_ARGUMENT: Size of values 0 does not match size of permutation 4 @ fanin shape inmodel_1/block2b_drop/dropout/SelectV2-2-TransposeNHWCToNCHW-LayoutOptimizer\n"
     ]
    },
    {
     "name": "stdout",
     "output_type": "stream",
     "text": [
      "250/250 [==============================] - 104s 392ms/step - loss: 0.7011 - accuracy: 0.5129 - val_loss: 0.6935 - val_accuracy: 0.5000 - lr: 0.0010\n",
      "Epoch 2/20\n",
      "250/250 [==============================] - 99s 395ms/step - loss: 0.6941 - accuracy: 0.5090 - val_loss: 0.6932 - val_accuracy: 0.5000 - lr: 0.0010\n",
      "Epoch 3/20\n",
      "250/250 [==============================] - 103s 411ms/step - loss: 0.6936 - accuracy: 0.4971 - val_loss: 0.6933 - val_accuracy: 0.5000 - lr: 0.0010\n",
      "Epoch 4/20\n",
      "250/250 [==============================] - 98s 392ms/step - loss: 0.6938 - accuracy: 0.4969 - val_loss: 0.6932 - val_accuracy: 0.5000 - lr: 0.0010\n",
      "Epoch 5/20\n",
      "250/250 [==============================] - 98s 390ms/step - loss: 0.6932 - accuracy: 0.5017 - val_loss: 0.6932 - val_accuracy: 0.5000 - lr: 0.0010\n",
      "Epoch 6/20\n",
      "250/250 [==============================] - 97s 389ms/step - loss: 0.6932 - accuracy: 0.5075 - val_loss: 0.6932 - val_accuracy: 0.5000 - lr: 2.0000e-04\n",
      "Epoch 7/20\n",
      "250/250 [==============================] - 96s 383ms/step - loss: 0.6932 - accuracy: 0.4988 - val_loss: 0.6931 - val_accuracy: 0.5000 - lr: 2.0000e-04\n",
      "Epoch 8/20\n",
      "250/250 [==============================] - 99s 396ms/step - loss: 0.6932 - accuracy: 0.4941 - val_loss: 0.6931 - val_accuracy: 0.5000 - lr: 2.0000e-04\n",
      "Epoch 9/20\n",
      "250/250 [==============================] - 101s 402ms/step - loss: 0.6931 - accuracy: 0.5048 - val_loss: 0.6931 - val_accuracy: 0.5000 - lr: 4.0000e-05\n",
      "Epoch 10/20\n",
      "250/250 [==============================] - 100s 399ms/step - loss: 0.6931 - accuracy: 0.5058 - val_loss: 0.6931 - val_accuracy: 0.5000 - lr: 4.0000e-05\n",
      "Epoch 11/20\n",
      "250/250 [==============================] - 100s 399ms/step - loss: 0.6931 - accuracy: 0.5077 - val_loss: 0.6931 - val_accuracy: 0.5000 - lr: 4.0000e-05\n",
      "Epoch 12/20\n",
      "250/250 [==============================] - 102s 406ms/step - loss: 0.6932 - accuracy: 0.5005 - val_loss: 0.6931 - val_accuracy: 0.5000 - lr: 8.0000e-06\n",
      "Epoch 1/10\n"
     ]
    },
    {
     "name": "stderr",
     "output_type": "stream",
     "text": [
      "2024-12-09 07:00:01.710073: E tensorflow/core/grappler/optimizers/meta_optimizer.cc:954] layout failed: INVALID_ARGUMENT: Size of values 0 does not match size of permutation 4 @ fanin shape inmodel_1/block2b_drop/dropout/SelectV2-2-TransposeNHWCToNCHW-LayoutOptimizer\n"
     ]
    },
    {
     "name": "stdout",
     "output_type": "stream",
     "text": [
      "250/250 [==============================] - 139s 412ms/step - loss: 0.7639 - accuracy: 0.5395 - val_loss: 0.6945 - val_accuracy: 0.4636 - lr: 1.0000e-05\n",
      "Epoch 2/10\n",
      "250/250 [==============================] - 100s 399ms/step - loss: 0.6814 - accuracy: 0.6029 - val_loss: 0.6800 - val_accuracy: 0.5610 - lr: 1.0000e-05\n",
      "Epoch 3/10\n",
      "250/250 [==============================] - 101s 404ms/step - loss: 0.6405 - accuracy: 0.6481 - val_loss: 0.6595 - val_accuracy: 0.6299 - lr: 1.0000e-05\n",
      "Epoch 4/10\n",
      "250/250 [==============================] - 104s 414ms/step - loss: 0.6060 - accuracy: 0.6743 - val_loss: 0.6955 - val_accuracy: 0.5753 - lr: 1.0000e-05\n",
      "Epoch 5/10\n",
      "250/250 [==============================] - 102s 409ms/step - loss: 0.5690 - accuracy: 0.7050 - val_loss: 0.6136 - val_accuracy: 0.6857 - lr: 1.0000e-05\n",
      "Epoch 6/10\n",
      "250/250 [==============================] - 102s 409ms/step - loss: 0.5448 - accuracy: 0.7311 - val_loss: 0.5513 - val_accuracy: 0.7195 - lr: 1.0000e-05\n",
      "Epoch 7/10\n",
      "250/250 [==============================] - 107s 426ms/step - loss: 0.5244 - accuracy: 0.7354 - val_loss: 0.5428 - val_accuracy: 0.7299 - lr: 1.0000e-05\n",
      "Epoch 8/10\n",
      "250/250 [==============================] - 104s 414ms/step - loss: 0.4957 - accuracy: 0.7586 - val_loss: 0.5285 - val_accuracy: 0.7455 - lr: 1.0000e-05\n",
      "Epoch 9/10\n",
      "250/250 [==============================] - 110s 441ms/step - loss: 0.4787 - accuracy: 0.7759 - val_loss: 0.5782 - val_accuracy: 0.7039 - lr: 1.0000e-05\n",
      "Epoch 10/10\n",
      "250/250 [==============================] - 108s 430ms/step - loss: 0.4670 - accuracy: 0.7789 - val_loss: 0.6042 - val_accuracy: 0.7701 - lr: 1.0000e-05\n"
     ]
    }
   ],
   "source": [
    "# Callbacks for better performance\n",
    "early_stopping = EarlyStopping(monitor='val_loss', patience=5, restore_best_weights=True)\n",
    "reduce_lr = ReduceLROnPlateau(monitor='val_loss', factor=0.2, patience=3, min_lr=1e-6)\n",
    "\n",
    "# Train the model\n",
    "history = model.fit(\n",
    "    train_generator,\n",
    "    validation_data=valid_generator,\n",
    "    epochs=20,\n",
    "    callbacks=[early_stopping, reduce_lr]\n",
    ")\n",
    "\n",
    "# Unfreeze the base model and fine-tune\n",
    "for layer in base_model.layers:\n",
    "    layer.trainable = True\n",
    "\n",
    "# Re-compile with a lower learning rate for fine-tuning\n",
    "model.compile(optimizer=tf.keras.optimizers.Adam(1e-5), loss='binary_crossentropy', metrics=['accuracy'])\n",
    "\n",
    "history_finetune = model.fit(\n",
    "    train_generator,\n",
    "    validation_data=valid_generator,\n",
    "    epochs=10,\n",
    "    callbacks=[early_stopping, reduce_lr]\n",
    ")\n"
   ]
  },
  {
   "cell_type": "markdown",
   "id": "46a3fa1a",
   "metadata": {
    "papermill": {
     "duration": 1.732613,
     "end_time": "2024-12-09T07:17:49.682298",
     "exception": false,
     "start_time": "2024-12-09T07:17:47.949685",
     "status": "completed"
    },
    "tags": []
   },
   "source": [
    "**Save the Model**"
   ]
  },
  {
   "cell_type": "code",
   "execution_count": 15,
   "id": "6078047a",
   "metadata": {
    "execution": {
     "iopub.execute_input": "2024-12-09T07:17:53.348122Z",
     "iopub.status.busy": "2024-12-09T07:17:53.347449Z",
     "iopub.status.idle": "2024-12-09T07:17:53.974602Z",
     "shell.execute_reply": "2024-12-09T07:17:53.973929Z"
    },
    "papermill": {
     "duration": 2.349418,
     "end_time": "2024-12-09T07:17:53.976581",
     "exception": false,
     "start_time": "2024-12-09T07:17:51.627163",
     "status": "completed"
    },
    "tags": []
   },
   "outputs": [],
   "source": [
    "# Save the trained model\n",
    "model.save(\"/kaggle/working/glaucoma_detection_model.h5\")\n"
   ]
  },
  {
   "cell_type": "markdown",
   "id": "efc121de",
   "metadata": {
    "papermill": {
     "duration": 1.726554,
     "end_time": "2024-12-09T07:17:57.687360",
     "exception": false,
     "start_time": "2024-12-09T07:17:55.960806",
     "status": "completed"
    },
    "tags": []
   },
   "source": [
    "**Prediction on Test Data**"
   ]
  },
  {
   "cell_type": "code",
   "execution_count": 16,
   "id": "584a80a0",
   "metadata": {
    "execution": {
     "iopub.execute_input": "2024-12-09T07:18:01.451000Z",
     "iopub.status.busy": "2024-12-09T07:18:01.450572Z",
     "iopub.status.idle": "2024-12-09T07:18:13.671109Z",
     "shell.execute_reply": "2024-12-09T07:18:13.670360Z"
    },
    "papermill": {
     "duration": 14.157211,
     "end_time": "2024-12-09T07:18:13.673088",
     "exception": false,
     "start_time": "2024-12-09T07:17:59.515877",
     "status": "completed"
    },
    "tags": []
   },
   "outputs": [
    {
     "name": "stdout",
     "output_type": "stream",
     "text": [
      "Found 770 images belonging to 2 classes.\n",
      "770/770 [==============================] - 8s 8ms/step\n"
     ]
    }
   ],
   "source": [
    "# Load the saved model\n",
    "from tensorflow.keras.models import load_model\n",
    "\n",
    "model = load_model(\"/kaggle/working/glaucoma_detection_model.h5\")\n",
    "\n",
    "# Create a test data generator\n",
    "test_datagen = ImageDataGenerator(rescale=1.0/255)\n",
    "\n",
    "test_generator = test_datagen.flow_from_directory(\n",
    "    TEST_DIR,\n",
    "    target_size=(224, 224),\n",
    "    batch_size=1,\n",
    "    class_mode=None,  # No labels\n",
    "    shuffle=False\n",
    ")\n",
    "\n",
    "# Predict\n",
    "predictions = model.predict(test_generator)\n",
    "predicted_classes = (predictions > 0.5).astype(\"int32\")\n",
    "\n",
    "# Map predictions to filenames\n",
    "filenames = test_generator.filenames\n",
    "results = pd.DataFrame({\"Filename\": filenames, \"Prediction\": predicted_classes.ravel()})\n",
    "\n",
    "# Save results to a CSV\n",
    "results.to_csv(\"/kaggle/working/predictions.csv\", index=False)\n"
   ]
  },
  {
   "cell_type": "markdown",
   "id": "92d725c5",
   "metadata": {
    "papermill": {
     "duration": 1.949691,
     "end_time": "2024-12-09T07:18:17.458941",
     "exception": false,
     "start_time": "2024-12-09T07:18:15.509250",
     "status": "completed"
    },
    "tags": []
   },
   "source": [
    "**Visualize Training Results**"
   ]
  },
  {
   "cell_type": "code",
   "execution_count": 17,
   "id": "d0b8c5b5",
   "metadata": {
    "execution": {
     "iopub.execute_input": "2024-12-09T07:18:21.185930Z",
     "iopub.status.busy": "2024-12-09T07:18:21.185000Z",
     "iopub.status.idle": "2024-12-09T07:18:22.066052Z",
     "shell.execute_reply": "2024-12-09T07:18:22.065165Z"
    },
    "papermill": {
     "duration": 2.870927,
     "end_time": "2024-12-09T07:18:22.067910",
     "exception": false,
     "start_time": "2024-12-09T07:18:19.196983",
     "status": "completed"
    },
    "tags": []
   },
   "outputs": [
    {
     "data": {
      "image/png": "[encoded data removed]",
      "text/plain": [
       "<Figure size 1200x600 with 2 Axes>"
      ]
     },
     "metadata": {},
     "output_type": "display_data"
    },
    {
     "data": {
      "image/png": "[encoded data removed]",
      "text/plain": [
       "<Figure size 1200x600 with 2 Axes>"
      ]
     },
     "metadata": {},
     "output_type": "display_data"
    }
   ],
   "source": [
    "# Plot training history\n",
    "def plot_training(history):\n",
    "    acc = history.history['accuracy']\n",
    "    val_acc = history.history['val_accuracy']\n",
    "    loss = history.history['loss']\n",
    "    val_loss = history.history['val_loss']\n",
    "\n",
    "    epochs = range(1, len(acc) + 1)\n",
    "\n",
    "    plt.figure(figsize=(12, 6))\n",
    "    plt.subplot(1, 2, 1)\n",
    "    plt.plot(epochs, acc, 'b', label='Training accuracy')\n",
    "    plt.plot(epochs, val_acc, 'r', label='Validation accuracy')\n",
    "    plt.title('Training and Validation Accuracy')\n",
    "    plt.legend()\n",
    "\n",
    "    plt.subplot(1, 2, 2)\n",
    "    plt.plot(epochs, loss, 'b', label='Training loss')\n",
    "    plt.plot(epochs, val_loss, 'r', label='Validation loss')\n",
    "    plt.title('Training and Validation Loss')\n",
    "    plt.legend()\n",
    "\n",
    "    plt.show()\n",
    "\n",
    "plot_training(history)\n",
    "plot_training(history_finetune)\n"
   ]
  },
  {
   "cell_type": "code",
   "execution_count": 18,
   "id": "e05ce85d",
   "metadata": {
    "execution": {
     "iopub.execute_input": "2024-12-09T07:18:25.657844Z",
     "iopub.status.busy": "2024-12-09T07:18:25.657062Z",
     "iopub.status.idle": "2024-12-09T07:18:30.232266Z",
     "shell.execute_reply": "2024-12-09T07:18:30.231459Z"
    },
    "papermill": {
     "duration": 6.437891,
     "end_time": "2024-12-09T07:18:30.233933",
     "exception": false,
     "start_time": "2024-12-09T07:18:23.796042",
     "status": "completed"
    },
    "tags": []
   },
   "outputs": [
    {
     "name": "stdout",
     "output_type": "stream",
     "text": [
      "1/1 [==============================] - 1s 1s/step\n",
      "Prediction: No Glaucoma\n"
     ]
    }
   ],
   "source": [
    "# Import necessary libraries\n",
    "import numpy as np\n",
    "import tensorflow as tf\n",
    "from tensorflow.keras.models import load_model\n",
    "from tensorflow.keras.preprocessing.image import load_img, img_to_array\n",
    "\n",
    "# Load the saved model\n",
    "model = load_model(\"/kaggle/working/glaucoma_detection_model.h5\")\n",
    "\n",
    "def predict_glaucoma(image_path, model):\n",
    "    \"\"\"\n",
    "    Predict if an image indicates glaucoma.\n",
    "\n",
    "    Args:\n",
    "    image_path (str): Path to the image file.\n",
    "    model (tf.keras.Model): Trained Keras model.\n",
    "\n",
    "    Returns:\n",
    "    str: Prediction result (\"Glaucoma Detected\" or \"No Glaucoma\").\n",
    "    \"\"\"\n",
    "    try:\n",
    "        # Load and preprocess the image\n",
    "        img = load_img(image_path, target_size=(224, 224))  # Resize to model's input size\n",
    "        img_array = img_to_array(img)\n",
    "        img_array = np.expand_dims(img_array, axis=0)  # Add batch dimension\n",
    "        img_array = img_array / 255.0  # Normalize the image\n",
    "\n",
    "        # Predict using the model\n",
    "        prediction = model.predict(img_array)\n",
    "        result = \"Glaucoma Detected\" if prediction[0][0] > 0.5 else \"No Glaucoma\"\n",
    "\n",
    "        return result\n",
    "    except Exception as e:\n",
    "        return f\"Error: {str(e)}\"\n",
    "\n",
    "# Test the function with an image\n",
    "# Replace this path with the path to your test image\n",
    "image_path = \"/kaggle/input/glaucoma-dataset-eyepacs-airogs-light-v2/eyepac-light-v2-512-jpg/validation/RG/EyePACS-TRAIN-RG-2502.jpg\"\n",
    "\n",
    "result = predict_glaucoma(image_path, model)\n",
    "print(f\"Prediction: {result}\")\n"
   ]
  }
 ],
 "metadata": {
  "kaggle": {
   "accelerator": "gpu",
   "dataSources": [
    {
     "datasetId": 4154884,
     "sourceId": 7802508,
     "sourceType": "datasetVersion"
    }
   ],
   "dockerImageVersionId": 30616,
   "isGpuEnabled": true,
   "isInternetEnabled": true,
   "language": "python",
   "sourceType": "notebook"
  },
  "kernelspec": {
   "display_name": "Python 3",
   "language": "python",
   "name": "python3"
  },
  "language_info": {
   "codemirror_mode": {
    "name": "ipython",
    "version": 3
   },
   "file_extension": ".py",
   "mimetype": "text/x-python",
   "name": "python",
   "nbconvert_exporter": "python",
   "pygments_lexer": "ipython3",
   "version": "3.10.12"
  },
  "papermill": {
   "default_parameters": {},
   "duration": 9149.430191,
   "end_time": "2024-12-09T07:18:35.861047",
   "environment_variables": {},
   "exception": null,
   "input_path": "__notebook__.ipynb",
   "output_path": "__notebook__.ipynb",
   "parameters": {},
   "start_time": "2024-12-09T04:46:06.430856",
   "version": "2.4.0"
  }
 },
 "nbformat": 4,
 "nbformat_minor": 5
}
